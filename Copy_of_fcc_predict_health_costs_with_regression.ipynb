{
  "nbformat": 4,
  "nbformat_minor": 0,
  "metadata": {
    "colab": {
      "name": "Copy of fcc_predict_health_costs_with_regression.ipynb",
      "private_outputs": true,
      "provenance": [],
      "collapsed_sections": [],
      "toc_visible": true
    },
    "kernelspec": {
      "display_name": "Python 3",
      "name": "python3"
    }
  },
  "cells": [
    {
      "cell_type": "markdown",
      "metadata": {
        "id": "M9TX15KOkPBV"
      },
      "source": [
        "*Note: You are currently reading this using Google Colaboratory which is a cloud-hosted version of Jupyter Notebook. This is a document containing both text cells for documentation and runnable code cells. If you are unfamiliar with Jupyter Notebook, watch this 3-minute introduction before starting this challenge: https://www.youtube.com/watch?v=inN8seMm7UI*\n",
        "\n",
        "---\n",
        "\n",
        "In this challenge, you will predict healthcare costs using a regression algorithm.\n",
        "\n",
        "You are given a dataset that contains information about different people including their healthcare costs. Use the data to predict healthcare costs based on new data.\n",
        "\n",
        "The first two cells of this notebook import libraries and the data.\n",
        "\n",
        "Make sure to convert categorical data to numbers. Use 80% of the data as the `train_dataset` and 20% of the data as the `test_dataset`.\n",
        "\n",
        "`pop` off the \"expenses\" column from these datasets to create new datasets called `train_labels` and `test_labels`. Use these labels when training your model.\n",
        "\n",
        "Create a model and train it with the `train_dataset`. Run the final cell in this notebook to check your model. The final cell will use the unseen `test_dataset` to check how well the model generalizes.\n",
        "\n",
        "To pass the challenge, `model.evaluate` must return a Mean Absolute Error of under 3500. This means it predicts health care costs correctly within $3500.\n",
        "\n",
        "The final cell will also predict expenses using the `test_dataset` and graph the results."
      ]
    },
    {
      "cell_type": "code",
      "metadata": {
        "id": "1rRo8oNqZ-Rj"
      },
      "source": [
        "# Import libraries. You may or may not use all of these.\n",
        "!pip install -q git+https://github.com/tensorflow/docs\n",
        "import matplotlib.pyplot as plt\n",
        "import numpy as np\n",
        "import pandas as pd\n",
        "import seaborn as sns\n",
        "\n",
        "try:\n",
        "  # %tensorflow_version only exists in Colab.\n",
        "  %tensorflow_version 2.x\n",
        "except Exception:\n",
        "  pass\n",
        "import tensorflow as tf\n",
        "\n",
        "from tensorflow import keras\n",
        "from tensorflow.keras import layers\n",
        "\n",
        "import tensorflow_docs as tfdocs\n",
        "import tensorflow_docs.plots\n",
        "import tensorflow_docs.modeling"
      ],
      "execution_count": null,
      "outputs": []
    },
    {
      "cell_type": "code",
      "metadata": {
        "id": "CiX2FI4gZtTt"
      },
      "source": [
        "#Tutorial : https://www.tensorflow.org/tutorials/keras/regression\n",
        "\n",
        "# Import data\n",
        "!wget https://cdn.freecodecamp.org/project-data/health-costs/insurance.csv\n",
        "dataset = pd.read_csv('insurance.csv')\n",
        "dataset.tail()"
      ],
      "execution_count": null,
      "outputs": []
    },
    {
      "cell_type": "code",
      "metadata": {
        "id": "daXMk7rVD9rH"
      },
      "source": [
        "dataset.isna().sum()"
      ],
      "execution_count": null,
      "outputs": []
    },
    {
      "cell_type": "code",
      "metadata": {
        "id": "LcopvQh3X-kX"
      },
      "source": [
        "dataset[\"sex\"] = dataset[\"sex\"].apply({\"male\":0,\"female\": 1}.get)\r\n",
        "dataset[\"smoker\"] = dataset[\"smoker\"].apply({\"yes\":1, \"no\":0}.get)\r\n",
        "dataset[\"region\"] = dataset[\"region\"].apply({\"southwest\": 1, \"southeast\" : 2, \"northwest\" : 3, \"northeast\" : 4}.get)\r\n",
        "\r\n",
        "dataset.head()"
      ],
      "execution_count": null,
      "outputs": []
    },
    {
      "cell_type": "code",
      "metadata": {
        "id": "QX3k3WfgnBBG"
      },
      "source": [
        "train_dataset = dataset.sample(frac=0.8, random_state=0)\r\n",
        "test_dataset = dataset.drop(train_dataset.index)\r\n",
        "\r\n",
        "sns.pairplot(train_dataset[['age', 'sex', 'bmi', 'children', 'smoker', 'region', \"expenses\"]], diag_kind='kde')"
      ],
      "execution_count": null,
      "outputs": []
    },
    {
      "cell_type": "code",
      "metadata": {
        "id": "PJuCbUF-sI1i"
      },
      "source": [
        "train_dataset.describe().transpose()"
      ],
      "execution_count": null,
      "outputs": []
    },
    {
      "cell_type": "code",
      "metadata": {
        "id": "KQF0d4ehJHfA"
      },
      "source": [
        "train_features = train_dataset.copy()\r\n",
        "test_features = test_dataset.copy()\r\n",
        "\r\n",
        "train_labels = train_features.pop('expenses')\r\n",
        "test_labels = test_features.pop('expenses')\r\n",
        "\r\n"
      ],
      "execution_count": null,
      "outputs": []
    },
    {
      "cell_type": "code",
      "metadata": {
        "id": "Pxp7ytWVsl_W"
      },
      "source": [
        "train_dataset.describe().transpose()[['mean', 'std']]"
      ],
      "execution_count": null,
      "outputs": []
    },
    {
      "cell_type": "code",
      "metadata": {
        "id": "khRLsNHVDnu8"
      },
      "source": [
        "\r\n",
        "normalizer = layers.experimental.preprocessing.Normalization()\r\n",
        "normalizer.adapt(np.array(train_features))\r\n",
        "print(normalizer.mean.numpy())"
      ],
      "execution_count": null,
      "outputs": []
    },
    {
      "cell_type": "code",
      "metadata": {
        "id": "sWYZeWuNtOD8"
      },
      "source": [
        "first = np.array(train_features[:1])\r\n",
        "\r\n",
        "with np.printoptions(precision=2, suppress=True):\r\n",
        "  print('First example:', first)\r\n",
        "  print()\r\n",
        "  print('Normalized:', normalizer(first).numpy())"
      ],
      "execution_count": null,
      "outputs": []
    },
    {
      "cell_type": "code",
      "metadata": {
        "id": "PBB2YsogttLg"
      },
      "source": [
        ""
      ],
      "execution_count": null,
      "outputs": []
    },
    {
      "cell_type": "code",
      "metadata": {
        "id": "5dNPFIii8LqA"
      },
      "source": [
        "model = tf.keras.Sequential()\r\n",
        "model.add(layers.Dense(10, use_bias=True, \r\n",
        "    input_shape=(6,), activation='relu'))\r\n",
        "model.add(layers.Dense(20, activation='relu'))\r\n",
        "model.add(layers.Dense(1, activation='linear'))\r\n",
        "\r\n",
        "\r\n",
        "\r\n",
        "\r\n",
        "model.predict(train_features[:10])"
      ],
      "execution_count": null,
      "outputs": []
    },
    {
      "cell_type": "code",
      "metadata": {
        "id": "tyk-g4G9t9dm"
      },
      "source": [
        "model.compile(\r\n",
        "    optimizer=tf.optimizers.Adam(learning_rate=0.1),\r\n",
        "    loss='mean_absolute_error', metrics=[\"mae\",\"mse\"])\r\n",
        "\r\n",
        "history = model.fit(\r\n",
        "    train_features, train_labels, \r\n",
        "    epochs=50,\r\n",
        "    verbose=1,\r\n",
        "    # Calculate validation results on 20% of the training data\r\n",
        "    validation_split = 0.2)"
      ],
      "execution_count": null,
      "outputs": []
    },
    {
      "cell_type": "code",
      "metadata": {
        "id": "2zco87GsuOaC"
      },
      "source": [
        "def plot_loss(history):\r\n",
        "  plt.plot(history.history['loss'], label='loss')\r\n",
        "  plt.plot(history.history['val_loss'], label='val_loss')\r\n",
        "  plt.ylim([0, 20000])\r\n",
        "  plt.xlabel('Epoch')\r\n",
        "  plt.ylabel('Error [$]')\r\n",
        "  plt.legend()\r\n",
        "  plt.grid(True)\r\n",
        "\r\n",
        "plot_loss(history)"
      ],
      "execution_count": null,
      "outputs": []
    },
    {
      "cell_type": "code",
      "metadata": {
        "id": "GmAl5Gotn_p3"
      },
      "source": [
        "test_results = {}\r\n",
        "\r\n",
        "test_results['model'] = model.evaluate(\r\n",
        "    test_features, test_labels, verbose=0)"
      ],
      "execution_count": null,
      "outputs": []
    },
    {
      "cell_type": "code",
      "metadata": {
        "id": "v8Y1VtRxvJY8"
      },
      "source": [
        "\r\n",
        "test_dataset = test_dataset.drop([\"expenses\"], axis = 1)"
      ],
      "execution_count": null,
      "outputs": []
    },
    {
      "cell_type": "code",
      "metadata": {
        "id": "Xe7RXH3N3CWU"
      },
      "source": [
        "# RUN THIS CELL TO TEST YOUR MODEL. DO NOT MODIFY CONTENTS.\n",
        "# Test model by checking how well the model generalizes using the test set.\n",
        "loss, mae, mse = model.evaluate(test_dataset, test_labels, verbose=2)\n",
        "\n",
        "print(\"Testing set Mean Abs Error: {:5.2f} expenses\".format(mae))\n",
        "\n",
        "if mae < 3500:\n",
        "  print(\"You passed the challenge. Great job!\")\n",
        "else:\n",
        "  print(\"The Mean Abs Error must be less than 3500. Keep trying.\")\n",
        "\n",
        "# Plot predictions.\n",
        "test_predictions = model.predict(test_dataset).flatten()\n",
        "\n",
        "a = plt.axes(aspect='equal')\n",
        "plt.scatter(test_labels, test_predictions)\n",
        "plt.xlabel('True values (expenses)')\n",
        "plt.ylabel('Predictions (expenses)')\n",
        "lims = [0, 50000]\n",
        "plt.xlim(lims)\n",
        "plt.ylim(lims)\n",
        "_ = plt.plot(lims,lims)\n"
      ],
      "execution_count": null,
      "outputs": []
    }
  ]
}